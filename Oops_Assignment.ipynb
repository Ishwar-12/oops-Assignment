{
  "cells": [
    {
      "cell_type": "markdown",
      "id": "f6766f2f-c4ec-4e7e-9247-41eef66de012",
      "metadata": {
        "id": "f6766f2f-c4ec-4e7e-9247-41eef66de012"
      },
      "source": [
        "- Python OOPs"
      ]
    },
    {
      "cell_type": "markdown",
      "id": "7da575ca-b845-476e-9123-4a773269e12b",
      "metadata": {
        "id": "7da575ca-b845-476e-9123-4a773269e12b"
      },
      "source": [
        "# Python OOPs Theory Questions"
      ]
    },
    {
      "cell_type": "raw",
      "id": "7154f2fc-884a-4c10-bc9a-71ba7225e8a7",
      "metadata": {
        "id": "7154f2fc-884a-4c10-bc9a-71ba7225e8a7"
      },
      "source": [
        "\n",
        "1. What is Object-Oriented Programming (OOP)?\n",
        "\n",
        "Ans- OOP helps you build programs by combining data (attributes) and functions   (methods) into logical units called objects.\n",
        "\n",
        " Organizes code in a clean, reusable way\n",
        "\n",
        " Makes big programs easier to manage\n",
        "\n",
        " Helps in real-world modeling (e.g., students, cars, banks)"
      ]
    },
    {
      "cell_type": "raw",
      "id": "8c28a0c9-fa76-4074-a2c5-05d29f606ca3",
      "metadata": {
        "id": "8c28a0c9-fa76-4074-a2c5-05d29f606ca3"
      },
      "source": [
        "\n",
        "2. What is a class in OOP?\n",
        "\n",
        "Ans- A class is a blueprint for creating objects. It defines attributes (data) and methods (functions)."
      ]
    },
    {
      "cell_type": "raw",
      "id": "020f8fd2-8840-478e-ac0e-100da1d7ecfb",
      "metadata": {
        "id": "020f8fd2-8840-478e-ac0e-100da1d7ecfb"
      },
      "source": [
        "3. What is an object in OOP?\n",
        "\n",
        "Ans- An object is an instance of a class. It has its own data and uses class-defined methods."
      ]
    },
    {
      "cell_type": "raw",
      "id": "85d49662-26df-4817-ae1d-6dcedc145634",
      "metadata": {
        "id": "85d49662-26df-4817-ae1d-6dcedc145634"
      },
      "source": [
        "4. What is the difference between abstraction and encapsulation?\n",
        "\n",
        "Ans- Abstraction hides the internal details and shows only necessary features. Encapsulation binds data and methods together and restricts direct access.\n"
      ]
    },
    {
      "cell_type": "raw",
      "id": "586dc8b1-2e8d-455d-b857-dfe54430fa18",
      "metadata": {
        "id": "586dc8b1-2e8d-455d-b857-dfe54430fa18"
      },
      "source": [
        "5. What are dunder methods in Python?\n",
        "\n",
        "Ans- Dunder methods (like __init__, __str__) are special methods that begin and end with double underscores. They customize behavior of Python classes.\n"
      ]
    },
    {
      "cell_type": "raw",
      "id": "ddfb9f76-9205-4173-a10c-67c0700ff17c",
      "metadata": {
        "id": "ddfb9f76-9205-4173-a10c-67c0700ff17c"
      },
      "source": [
        "6. Explain the concept of inheritance in OOP.\n",
        "\n",
        "Ans- Inheritance lets a class (child) reuse properties and methods from another class (parent). It helps code reuse."
      ]
    },
    {
      "cell_type": "raw",
      "id": "200676e6-60d9-4f2d-aa39-2713683aefb9",
      "metadata": {
        "id": "200676e6-60d9-4f2d-aa39-2713683aefb9"
      },
      "source": [
        "7. What is polymorphism in OOP?\n",
        "\n",
        "Ans-Polymorphism means \"many forms\". It allows different classes to use the same method name but with different behavior."
      ]
    },
    {
      "cell_type": "raw",
      "id": "c471c95e-da3e-46a3-8795-5bb21e6062c4",
      "metadata": {
        "id": "c471c95e-da3e-46a3-8795-5bb21e6062c4"
      },
      "source": [
        "8. How is encapsulation achieved in Python?\n",
        "\n",
        "Ans- Encapsulation is achieved using private attributes (prefixing with __) and getter/setter methods to control access."
      ]
    },
    {
      "cell_type": "raw",
      "id": "02499fa3-e53b-44a9-bd3e-50ddea706b55",
      "metadata": {
        "id": "02499fa3-e53b-44a9-bd3e-50ddea706b55"
      },
      "source": [
        "9. What is a constructor in Python?\n",
        "\n",
        "Ans- A constructor is the __init__ method used to initialize the object’s attributes when it is created."
      ]
    },
    {
      "cell_type": "raw",
      "id": "eb8893a4-9f13-41d9-a80c-eca56b64f90b",
      "metadata": {
        "id": "eb8893a4-9f13-41d9-a80c-eca56b64f90b"
      },
      "source": [
        "10. What are class and static methods in Python?\n",
        "\n",
        "Ans- Class methods use @classmethod and operate on the class. Static methods use @staticmethod and do not access class or instance data."
      ]
    },
    {
      "cell_type": "raw",
      "id": "27899288-2344-4b20-8e48-4f3f4ce9811b",
      "metadata": {
        "id": "27899288-2344-4b20-8e48-4f3f4ce9811b"
      },
      "source": [
        "11. What is method overloading in Python?\n",
        "\n",
        "Ans- Python does not support traditional method overloading. You can simulate it using default or variable-length arguments."
      ]
    },
    {
      "cell_type": "raw",
      "id": "28438428-bbd3-4b43-88f2-328073063385",
      "metadata": {
        "id": "28438428-bbd3-4b43-88f2-328073063385"
      },
      "source": [
        "12. What is method overriding in OOP?\n",
        "\n",
        "Ans- Overriding means redefining a parent class method in a child class with the same name.\n"
      ]
    },
    {
      "cell_type": "raw",
      "id": "59e7c035-2099-4883-941f-d11c5a147c07",
      "metadata": {
        "id": "59e7c035-2099-4883-941f-d11c5a147c07"
      },
      "source": [
        "13. What is a property decorator in Python?\n",
        "\n",
        "Ans- @property is used to create read-only or controlled access to private attributes like a method but accessed like a variable."
      ]
    },
    {
      "cell_type": "raw",
      "id": "aaf103f8-7366-4178-ad96-f50e1c0abec7",
      "metadata": {
        "id": "aaf103f8-7366-4178-ad96-f50e1c0abec7"
      },
      "source": [
        "14. Why is polymorphism important in OOP?\n",
        "\n",
        "Ans- It allows flexibility. Same method names can be used for different types of objects, improving readability and design."
      ]
    },
    {
      "cell_type": "raw",
      "id": "df910457-c238-46e3-9274-4c539d763139",
      "metadata": {
        "id": "df910457-c238-46e3-9274-4c539d763139"
      },
      "source": [
        "15. What is an abstract class in Python?\n",
        "\n",
        "Ans-  An abstract class is a class with at least one abstract method (declared but not defined). It can’t be instantiated directly."
      ]
    },
    {
      "cell_type": "raw",
      "id": "fba61b1e-adc4-4dad-8fe1-b99b6f8a859d",
      "metadata": {
        "id": "fba61b1e-adc4-4dad-8fe1-b99b6f8a859d"
      },
      "source": [
        "16. What are the advantages of OOP?\n",
        "\n",
        "Ans- OOP provides modularity, reusability, scalability, and easier maintenance."
      ]
    },
    {
      "cell_type": "raw",
      "id": "19c822a3-d5d0-45f3-aa0d-e8acc93b3ee0",
      "metadata": {
        "id": "19c822a3-d5d0-45f3-aa0d-e8acc93b3ee0"
      },
      "source": [
        "17. What is the difference between a class variable and an instance variable?\n",
        "\n",
        "Ans- Class variables are shared by all objects. Instance variables are unique to each object."
      ]
    },
    {
      "cell_type": "raw",
      "id": "4118f29f-672f-442c-a6c4-9f53934015f7",
      "metadata": {
        "id": "4118f29f-672f-442c-a6c4-9f53934015f7"
      },
      "source": [
        "18. What is multiple inheritance in Python?\n",
        "\n",
        "Ans- A class can inherit from multiple parent classes. Python uses Method Resolution Order (MRO) to decide the order of lookup."
      ]
    },
    {
      "cell_type": "raw",
      "id": "500d24a1-38d6-42b8-b433-3f5bf1d256fd",
      "metadata": {
        "id": "500d24a1-38d6-42b8-b433-3f5bf1d256fd"
      },
      "source": [
        "\n",
        "19. Explain the purpose of __str__ and __repr__ methods in Python.\n",
        "\n",
        "Ans- __str__ returns a readable string for end users. __repr__ returns a detailed string for developers/debugging."
      ]
    },
    {
      "cell_type": "raw",
      "id": "f69c2c2b-ba3d-4072-a20a-7c32b44883e5",
      "metadata": {
        "id": "f69c2c2b-ba3d-4072-a20a-7c32b44883e5"
      },
      "source": [
        "20. What is the significance of the super() function in Python?\n",
        "\n",
        "Ans- super() allows a child class to call methods from its parent class, often used in constructors."
      ]
    },
    {
      "cell_type": "raw",
      "id": "0896295f-b1e3-492e-a050-f8a79bd7e823",
      "metadata": {
        "id": "0896295f-b1e3-492e-a050-f8a79bd7e823"
      },
      "source": [
        "21. What is the significance of the __del__ method in Python?\n",
        "Ans- __del__ is a destructor method called when an object is about to be deleted."
      ]
    },
    {
      "cell_type": "raw",
      "id": "16895151-e250-4619-8c12-5fca9e40a694",
      "metadata": {
        "id": "16895151-e250-4619-8c12-5fca9e40a694"
      },
      "source": [
        "22. What is the difference between @staticmethod and @classmethod in Python?\n",
        "\n",
        "Ans- @staticmethod doesn’t access class or instance. @classmethod takes `cls` as parameter and can modify class-level data."
      ]
    },
    {
      "cell_type": "raw",
      "id": "917f1101-7145-4819-93c3-c2f64f4b63bd",
      "metadata": {
        "id": "917f1101-7145-4819-93c3-c2f64f4b63bd"
      },
      "source": [
        "23. How does polymorphism work in Python with inheritance?\n",
        "\n",
        "Ans-  Python allows method overriding and using a common interface across different subclasses."
      ]
    },
    {
      "cell_type": "raw",
      "id": "0cc5a927-0139-46a6-9528-fa19a9537e83",
      "metadata": {
        "id": "0cc5a927-0139-46a6-9528-fa19a9537e83"
      },
      "source": [
        "24. What is method chaining in Python OOP?\n",
        "\n",
        "Ans- Method chaining is calling multiple methods on the same object in a single line. Each method must return self."
      ]
    },
    {
      "cell_type": "raw",
      "id": "b4f2ceb2-7fa5-4174-9f9e-aab1252ed06c",
      "metadata": {
        "id": "b4f2ceb2-7fa5-4174-9f9e-aab1252ed06c"
      },
      "source": [
        "25. What is the purpose of the __call__ method in Python?\n",
        "\n",
        "Ans- __call__ lets an object behave like a function. You can call the object using parentheses.\n"
      ]
    },
    {
      "cell_type": "code",
      "execution_count": 1,
      "id": "f8005f14-633a-46fa-88f5-b6d9b8629f1e",
      "metadata": {
        "id": "f8005f14-633a-46fa-88f5-b6d9b8629f1e"
      },
      "outputs": [],
      "source": []
    },
    {
      "cell_type": "markdown",
      "source": [
        "# Practical Questions"
      ],
      "metadata": {
        "id": "pNT7Gmp5DnD9"
      },
      "id": "pNT7Gmp5DnD9"
    },
    {
      "cell_type": "code",
      "execution_count": null,
      "id": "8467d415-0296-422a-82d2-4712199c07a6",
      "metadata": {
        "id": "8467d415-0296-422a-82d2-4712199c07a6"
      },
      "outputs": [],
      "source": [
        "#1. Create a parent class Animal with a method speak() that prints a generic message. Create a child class Dog that overrides the speak() method to print \"Bark!\".\n",
        "#Ans-\n",
        "class Animal:\n",
        "    def speak(self):\n",
        "        print(\"Animal speaks\")\n",
        "\n",
        "class Dog(Animal):\n",
        "    def speak(self):\n",
        "        print(\"Bark!\")"
      ]
    },
    {
      "cell_type": "code",
      "execution_count": null,
      "id": "43ba399f-be43-48c0-a88d-acf6e47179d3",
      "metadata": {
        "id": "43ba399f-be43-48c0-a88d-acf6e47179d3",
        "outputId": "fac43842-5b50-4b9b-e1bd-e2d0fd033428"
      },
      "outputs": [
        {
          "name": "stdout",
          "output_type": "stream",
          "text": [
            "Bark!\n"
          ]
        }
      ],
      "source": [
        "Dog().speak()"
      ]
    },
    {
      "cell_type": "code",
      "execution_count": null,
      "id": "c59b3d8e-a7e8-469a-a6a4-5f5afa371087",
      "metadata": {
        "id": "c59b3d8e-a7e8-469a-a6a4-5f5afa371087"
      },
      "outputs": [],
      "source": [
        "#2. Write a program to create an abstract class Shape with a method area(). Derive classes Circle and Rectangle from it and implement the area() method in both.\n",
        "#Ans-\n",
        "from abc import ABC, abstractmethod\n",
        "\n",
        "class Shape(ABC):\n",
        "    @abstractmethod\n",
        "    def area(self):\n",
        "        pass\n",
        "\n",
        "class Circle(Shape):\n",
        "    def __init__(self, radius):\n",
        "        self.radius = radius\n",
        "\n",
        "    def area(self):\n",
        "        return 3.14 * self.radius ** 2\n",
        "\n",
        "class Rectangle(Shape):\n",
        "    def __init__(self, length, width):\n",
        "        self.length = length\n",
        "        self.width = width\n",
        "\n",
        "    def area(self):\n",
        "        return self.length * self.width"
      ]
    },
    {
      "cell_type": "code",
      "execution_count": null,
      "id": "7eb0e40a-43fd-403c-961f-4f70ae9e2757",
      "metadata": {
        "id": "7eb0e40a-43fd-403c-961f-4f70ae9e2757"
      },
      "outputs": [],
      "source": [
        "#3. Implement a multi-level inheritance scenario where a class Vehicle has an attribute type. Derive a class Car and further derive a class ElectricCar that adds a battery attribute.\n",
        "#Ans-\n",
        "class Vehicle:\n",
        "    def __init__(self, type):\n",
        "        self.type = type\n",
        "\n",
        "class Car(Vehicle):\n",
        "    def __init__(self, type, brand):\n",
        "        super().__init__(type)\n",
        "        self.brand = brand\n",
        "\n",
        "class ElectricCar(Car):\n",
        "    def __init__(self, type, brand, battery):\n",
        "        super().__init__(type, brand)\n",
        "        self.battery = battery\n"
      ]
    },
    {
      "cell_type": "code",
      "execution_count": null,
      "id": "b9728dec-ecf5-47d9-86ca-be9500106a51",
      "metadata": {
        "id": "b9728dec-ecf5-47d9-86ca-be9500106a51"
      },
      "outputs": [],
      "source": [
        "#4. Demonstrate polymorphism by creating a base class Bird with a method fly(). Create two derived classes Sparrow and Penguin that override the fly() method.\n",
        "#Ans-\n",
        "class Bird:\n",
        "    def fly(self):\n",
        "        print(\"Bird can fly\")\n",
        "\n",
        "class Sparrow(Bird):\n",
        "    def fly(self):\n",
        "        print(\"Sparrow flies high\")\n",
        "\n",
        "class Penguin(Bird):\n",
        "    def fly(self):\n",
        "        print(\"Penguin cannot fly\")\n"
      ]
    },
    {
      "cell_type": "code",
      "execution_count": null,
      "id": "c83514c9-12e5-4060-b642-8b67a35391ee",
      "metadata": {
        "id": "c83514c9-12e5-4060-b642-8b67a35391ee"
      },
      "outputs": [],
      "source": [
        "#5. Write a program to demonstrate encapsulation by creating a class BankAccount with private attributes balance and methods to deposit, withdraw, and check balance.\n",
        "#Ans-\n",
        "class BankAccount:\n",
        "    def __init__(self):\n",
        "        self.__balance = 0\n",
        "\n",
        "    def deposit(self, amount):\n",
        "        self.__balance += amount\n",
        "\n",
        "    def withdraw(self, amount):\n",
        "        if amount <= self.__balance:\n",
        "            self.__balance -= amount\n",
        "\n",
        "    def check_balance(self):\n",
        "        return self.__balance"
      ]
    },
    {
      "cell_type": "code",
      "execution_count": null,
      "id": "46f20b27-33c2-417c-9534-def188a6a215",
      "metadata": {
        "id": "46f20b27-33c2-417c-9534-def188a6a215"
      },
      "outputs": [],
      "source": [
        "#6. Demonstrate runtime polymorphism using a method play() in a base class Instrument. Derive classes Guitar and Piano that implement their own version of play().\n",
        "#Ans-\n",
        "class Instrument:\n",
        "    def play(self):\n",
        "        print(\"Playing instrument\")\n",
        "\n",
        "class Guitar(Instrument):\n",
        "    def play(self):\n",
        "        print(\"Playing guitar\")\n",
        "\n",
        "class Piano(Instrument):\n",
        "    def play(self):\n",
        "        print(\"Playing piano\")\n"
      ]
    },
    {
      "cell_type": "code",
      "execution_count": null,
      "id": "7893aae8-2d7a-424d-bb9d-d8dfc6a067af",
      "metadata": {
        "id": "7893aae8-2d7a-424d-bb9d-d8dfc6a067af"
      },
      "outputs": [],
      "source": [
        "#7. Create a class MathOperations with a class method add_numbers() to add two numbers and a static method subtract_numbers() to subtract two numbers.\n",
        "#Ans-\n",
        "class MathOperations:\n",
        "    @classmethod\n",
        "    def add_numbers(cls, a, b):\n",
        "        return a + b\n",
        "\n",
        "    @staticmethod\n",
        "    def subtract_numbers(a, b):\n",
        "        return a - b\n"
      ]
    },
    {
      "cell_type": "code",
      "execution_count": null,
      "id": "8e5d9cf5-0486-433c-9177-7ea43b63f798",
      "metadata": {
        "id": "8e5d9cf5-0486-433c-9177-7ea43b63f798"
      },
      "outputs": [],
      "source": [
        "#8. Implement a class Person with a class method to count the total number of persons created.\n",
        "#Ans-\n",
        "class Person:\n",
        "    count = 0\n",
        "\n",
        "    def __init__(self, name):\n",
        "        self.name = name\n",
        "        Person.count += 1\n",
        "\n",
        "    @classmethod\n",
        "    def get_count(cls):\n",
        "        return cls.count\n"
      ]
    },
    {
      "cell_type": "code",
      "execution_count": null,
      "id": "45f36802-340c-4ee8-9b09-914f98e676e7",
      "metadata": {
        "id": "45f36802-340c-4ee8-9b09-914f98e676e7"
      },
      "outputs": [],
      "source": [
        "#9. Write a class Fraction with attributes numerator and denominator. Override the str method to display the fraction as \"numerator/denominator\".\n",
        "#Ans-\n",
        "class Fraction:\n",
        "    def __init__(self, num, den):\n",
        "        self.num = num\n",
        "        self.den = den\n",
        "\n",
        "    def __str__(self):\n",
        "        return f\"{self.num}/{self.den}\""
      ]
    },
    {
      "cell_type": "code",
      "execution_count": null,
      "id": "e7fc93ab-3363-4667-9cb2-d9fbc9cdb1c5",
      "metadata": {
        "id": "e7fc93ab-3363-4667-9cb2-d9fbc9cdb1c5"
      },
      "outputs": [],
      "source": [
        "#10. Demonstrate operator overloading by creating a class Vector and overriding the add method to add two vectors.\n",
        "#Ans-\n",
        "class Vector:\n",
        "    def __init__(self, x, y):\n",
        "        self.x = x\n",
        "        self.y = y\n",
        "\n",
        "    def __add__(self, other):\n",
        "        return Vector(self.x + other.x, self.y + other.y)\n",
        "\n",
        "    def __str__(self):\n",
        "        return f\"({self.x}, {self.y})\""
      ]
    },
    {
      "cell_type": "code",
      "execution_count": null,
      "id": "76aabd7a-f51c-44b6-8dcc-ac63936432ad",
      "metadata": {
        "id": "76aabd7a-f51c-44b6-8dcc-ac63936432ad"
      },
      "outputs": [],
      "source": [
        "#11. Create a class Person with attributes name and age. Add a method greet() that prints \"Hello, my name is {name} and I am {age} years old.\"\n",
        "#Ans-\n",
        "class Person:\n",
        "    def __init__(self, name, age):\n",
        "        self.name = name\n",
        "        self.age = age\n",
        "\n",
        "    def greet(self):\n",
        "        print(f\"Hello, my name is {self.name} and I am {self.age} years old.\")\n"
      ]
    },
    {
      "cell_type": "code",
      "execution_count": null,
      "id": "bb3066d8-6c59-4073-a3b1-b860ba2dd6b1",
      "metadata": {
        "id": "bb3066d8-6c59-4073-a3b1-b860ba2dd6b1"
      },
      "outputs": [],
      "source": [
        "#12. Implement a class Student with attributes name and grades. Create a method average_grade() to compute the average of the grades.\n",
        "#Ans-\n",
        "class Student:\n",
        "    def __init__(self, name, grades):\n",
        "        self.name = name\n",
        "        self.grades = grades\n",
        "\n",
        "    def average_grade(self):\n",
        "        return sum(self.grades) / len(self.grades)"
      ]
    },
    {
      "cell_type": "code",
      "execution_count": null,
      "id": "707dadb3-5fe0-4b88-ab0e-6d054904e3f3",
      "metadata": {
        "id": "707dadb3-5fe0-4b88-ab0e-6d054904e3f3"
      },
      "outputs": [],
      "source": [
        "#13. Create a class Rectangle with methods set_dimensions() to set the dimensions and area() to calculate the area.\n",
        "#Ans-\n",
        "class Rectangle:\n",
        "    def set_dimensions(self, length, width):\n",
        "        self.length = length\n",
        "        self.width = width\n",
        "\n",
        "    def area(self):\n",
        "        return self.length * self.width"
      ]
    },
    {
      "cell_type": "code",
      "execution_count": null,
      "id": "228bcf93-8048-482a-905e-0b8ab94fe843",
      "metadata": {
        "id": "228bcf93-8048-482a-905e-0b8ab94fe843"
      },
      "outputs": [],
      "source": [
        "#14. Create a class Employee with a method calculate_salary() that computes the salary based on hours worked and hourly rate. Create a derived class Manager that adds a bonus to the salary.\n",
        "#Ans-\n",
        "class Employee:\n",
        "    def calculate_salary(self, hours, rate):\n",
        "        return hours * rate\n",
        "\n",
        "class Manager(Employee):\n",
        "    def calculate_salary(self, hours, rate, bonus):\n",
        "        return super().calculate_salary(hours, rate) + bonus"
      ]
    },
    {
      "cell_type": "code",
      "execution_count": null,
      "id": "b721a628-be25-4b15-8741-89f4ff33587b",
      "metadata": {
        "id": "b721a628-be25-4b15-8741-89f4ff33587b",
        "outputId": "1fc1a0d0-4bbc-4847-a1ac-fdf4baf8778f"
      },
      "outputs": [
        {
          "name": "stdout",
          "output_type": "stream",
          "text": [
            "Total price: 150\n"
          ]
        }
      ],
      "source": [
        "#15. Create a class Product with attributes name, price, and quantity. Implement a method total_price() that calculates the total price of the product.\n",
        "#Ans-\n",
        "class Product:\n",
        "    def __init__(self, name, price, quantity):\n",
        "        self.name = name\n",
        "        self.price = price\n",
        "        self.quantity = quantity\n",
        "\n",
        "    def total_price(self):\n",
        "        return self.price * self.quantity\n",
        "\n",
        "# Example usage for Ishwar\n",
        "item = Product(\"Notebook\", 50, 3)\n",
        "print(\"Total price:\", item.total_price())  # Output: 150"
      ]
    },
    {
      "cell_type": "code",
      "execution_count": null,
      "id": "54f3958a-26cf-4ba6-bf62-4ef7409fac82",
      "metadata": {
        "id": "54f3958a-26cf-4ba6-bf62-4ef7409fac82",
        "outputId": "0b3336d2-c0c7-414d-ed45-a7002f0ce21e"
      },
      "outputs": [
        {
          "name": "stdout",
          "output_type": "stream",
          "text": [
            "Moo\n",
            "Baa\n"
          ]
        }
      ],
      "source": [
        "#16. Create a class Animal with an abstract method sound(). Create two derived classes Cow and Sheep that implement the sound() method.\n",
        "#Ans-\n",
        "from abc import ABC, abstractmethod\n",
        "\n",
        "class Animal(ABC):\n",
        "    @abstractmethod\n",
        "    def sound(self):\n",
        "        pass\n",
        "\n",
        "class Cow(Animal):\n",
        "    def sound(self):\n",
        "        print(\"Moo\")\n",
        "\n",
        "class Sheep(Animal):\n",
        "    def sound(self):\n",
        "        print(\"Baa\")\n",
        "\n",
        "# Example usage\n",
        "cow = Cow()\n",
        "sheep = Sheep()\n",
        "cow.sound()    # Output: Moo\n",
        "sheep.sound()  # Output: Baa\n"
      ]
    },
    {
      "cell_type": "code",
      "execution_count": null,
      "id": "9c53856d-93eb-4c4d-a74a-31a64e850446",
      "metadata": {
        "id": "9c53856d-93eb-4c4d-a74a-31a64e850446",
        "outputId": "4153d3b8-749d-4140-f7ec-c07283179827"
      },
      "outputs": [
        {
          "name": "stdout",
          "output_type": "stream",
          "text": [
            "'The Python Journey' by Ishwar, published in 2025\n"
          ]
        }
      ],
      "source": [
        "#17. Create a class Book with attributes title, author, and year_published. Add a method get_book_info() that returns a formatted string with the book's details.\n",
        "#Ans-\n",
        "class Book:\n",
        "    def __init__(self, title, author, year_published):\n",
        "        self.title = title\n",
        "        self.author = author\n",
        "        self.year_published = year_published\n",
        "\n",
        "    def get_book_info(self):\n",
        "        return f\"'{self.title}' by {self.author}, published in {self.year_published}\"\n",
        "\n",
        "# Example usage for Ishwar\n",
        "book1 = Book(\"The Python Journey\", \"Ishwar\", 2025)\n",
        "print(book1.get_book_info())  # Output: 'The Python Journey' by Ishwar, published in 2024"
      ]
    },
    {
      "cell_type": "code",
      "execution_count": null,
      "id": "88d97e67-5bb7-43fe-8691-0062edc3546c",
      "metadata": {
        "id": "88d97e67-5bb7-43fe-8691-0062edc3546c",
        "outputId": "5913429d-dc15-4d29-9ec4-14f7016bff65"
      },
      "outputs": [
        {
          "name": "stdout",
          "output_type": "stream",
          "text": [
            "Address: ICEEM Campus, Chhatrapati Sambhajinagar, Price: ₹25000000, Rooms: 10\n"
          ]
        }
      ],
      "source": [
        "#18. Create a class House with attributes address and price. Create a derived class Mansion that adds an attribute number_of_rooms.\n",
        "#Ans-\n",
        "class House:\n",
        "    def __init__(self, address, price):\n",
        "        self.address = address\n",
        "        self.price = price\n",
        "\n",
        "class Mansion(House):\n",
        "    def __init__(self, address, price, number_of_rooms):\n",
        "        super().__init__(address, price)\n",
        "        self.number_of_rooms = number_of_rooms\n",
        "\n",
        "    def mansion_info(self):\n",
        "        return f\"Address: {self.address}, Price: ₹{self.price}, Rooms: {self.number_of_rooms}\"\n",
        "\n",
        "# Example usage for Ishwar\n",
        "my_mansion = Mansion(\"ICEEM Campus, Chhatrapati Sambhajinagar\", 25000000, 10)\n",
        "print(my_mansion.mansion_info())"
      ]
    },
    {
      "cell_type": "code",
      "execution_count": null,
      "id": "5073a7b1-9c42-4f59-b29c-7aca1de20e12",
      "metadata": {
        "id": "5073a7b1-9c42-4f59-b29c-7aca1de20e12"
      },
      "outputs": [],
      "source": []
    }
  ],
  "metadata": {
    "kernelspec": {
      "display_name": "Python 3 (ipykernel)",
      "language": "python",
      "name": "python3"
    },
    "language_info": {
      "codemirror_mode": {
        "name": "ipython",
        "version": 3
      },
      "file_extension": ".py",
      "mimetype": "text/x-python",
      "name": "python",
      "nbconvert_exporter": "python",
      "pygments_lexer": "ipython3",
      "version": "3.13.5"
    },
    "colab": {
      "provenance": []
    }
  },
  "nbformat": 4,
  "nbformat_minor": 5
}